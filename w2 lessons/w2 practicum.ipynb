{
 "cells": [
  {
   "cell_type": "markdown",
   "metadata": {},
   "source": [
    "# Imports"
   ]
  },
  {
   "cell_type": "code",
   "execution_count": 26,
   "metadata": {},
   "outputs": [],
   "source": [
    "import math\n",
    "import pandas as pd\n",
    "import torch\n",
    "import numpy as np\n",
    "import matplotlib.pyplot as plt\n",
    "from sklearn.preprocessing import MinMaxScaler\n",
    "from torch.autograd import Variable\n",
    "from sklearn.metrics import mean_squared_error"
   ]
  },
  {
   "cell_type": "code",
   "execution_count": 27,
   "metadata": {},
   "outputs": [],
   "source": [
    "class PyTorchLRModel(torch.nn.Module):\n",
    "    def __init__(self, in_size, out_size):\n",
    "        super(PyTorchLRModel, self).__init__()\n",
    "\n",
    "        # the Linear module applies a linear transformation to incoming data        \n",
    "        self.linear = torch.nn.Linear(in_size, out_size)\n",
    "        \n",
    "    def forward(self, x):\n",
    "        # forward performs the actual model operation\n",
    "\n",
    "        out = self.linear(x)\n",
    "        return out"
   ]
  },
  {
   "cell_type": "code",
   "execution_count": 28,
   "metadata": {},
   "outputs": [],
   "source": [
    "# Trains a model\n",
    "# x: features - numpy array\n",
    "# y: response - numpy array\n",
    "# learning_rate: learning rate for SGD\n",
    "# epochs - number of epochs for SGD loop\n",
    "# lambda1 - L1 regularization rate\n",
    "# lambda2 - L2 regularization rate\n",
    "def pytorch_lr_fit(x, y, learning_rate, epochs, lambda1, lambda2):\n",
    "\n",
    "    # number of dimensions in incoming data\n",
    "    input_dimension = x.ndim\n",
    "    output_dimension = y.ndim\n",
    "\n",
    "    # if the features are a 1-d array (a list), turn into a 2d column vector\n",
    "    if input_dimension == 1:\n",
    "        x = x[:, np.newaxis]\n",
    "        input_size = 1\n",
    "    else:\n",
    "        input_size = x.shape[1]\n",
    "\n",
    "    if output_dimension == 1:\n",
    "        y = y[:, np.newaxis]\n",
    "        output_size = 1\n",
    "    else:\n",
    "        output_size = y.shape[1]\n",
    "\n",
    "\n",
    "    model = PyTorchLRModel(input_size, output_size)\n",
    "\n",
    "    # We will use Mean Square Error as loss function\n",
    "    loss_func = torch.nn.MSELoss()\n",
    "\n",
    "    # L2 regularization is built in\n",
    "    optimizer = torch.optim.SGD(model.parameters(), lr = learning_rate, weight_decay = lambda2)\n",
    "    \n",
    "    for epoch in range(epochs):\n",
    "        features = Variable(torch.from_numpy(x).float(), requires_grad = True)\n",
    "        response = Variable(torch.from_numpy(y).float())\n",
    "\n",
    "        # the optimizer remembers gradients from the previous iteration - reset\n",
    "        optimizer.zero_grad()\n",
    "\n",
    "        predictions = model.forward(features)\n",
    "\n",
    "        loss = loss_func(predictions, response)\n",
    "\n",
    "        # L1 regularization needs to be done \"manually\"\n",
    "        if lambda1 > 0.0:\n",
    "            # view(-1) flattens each parameter\n",
    "            # cat concatenates into a single list/array/whatever\n",
    "            parameters = torch.cat([x.view(-1) for x in model.linear.parameters()])\n",
    "            l1_regularization = lambda1 * torch.norm(parameters, 1)\n",
    "            loss += l1_regularization\n",
    "\n",
    "        # calculate the derivative/gradient for each feature\n",
    "        loss.backward()\n",
    "\n",
    "        # based on the gradients, take a step in the right direction\n",
    "        optimizer.step()\n",
    "\n",
    "    return model"
   ]
  },
  {
   "cell_type": "code",
   "execution_count": 29,
   "metadata": {},
   "outputs": [
    {
     "name": "stdout",
     "output_type": "stream",
     "text": [
      "7\n"
     ]
    }
   ],
   "source": [
    "scaler = MinMaxScaler()\n",
    "columns = ['bmi', 'map', 'ldl', 'hdl', 'tch', 'glu', 'ltg', 'y']\n",
    "feature_count = len(columns[0:-1])\n",
    "\n",
    "print(feature_count)"
   ]
  },
  {
   "cell_type": "markdown",
   "metadata": {},
   "source": [
    "# Import training and test data"
   ]
  },
  {
   "cell_type": "code",
   "execution_count": 30,
   "metadata": {},
   "outputs": [
    {
     "data": {
      "text/html": [
       "<div>\n",
       "<style scoped>\n",
       "    .dataframe tbody tr th:only-of-type {\n",
       "        vertical-align: middle;\n",
       "    }\n",
       "\n",
       "    .dataframe tbody tr th {\n",
       "        vertical-align: top;\n",
       "    }\n",
       "\n",
       "    .dataframe thead th {\n",
       "        text-align: right;\n",
       "    }\n",
       "</style>\n",
       "<table border=\"1\" class=\"dataframe\">\n",
       "  <thead>\n",
       "    <tr style=\"text-align: right;\">\n",
       "      <th></th>\n",
       "      <th>Unnamed: 0</th>\n",
       "      <th>age</th>\n",
       "      <th>sex</th>\n",
       "      <th>bmi</th>\n",
       "      <th>map</th>\n",
       "      <th>tc</th>\n",
       "      <th>ldl</th>\n",
       "      <th>hdl</th>\n",
       "      <th>tch</th>\n",
       "      <th>ltg</th>\n",
       "      <th>glu</th>\n",
       "      <th>y</th>\n",
       "    </tr>\n",
       "  </thead>\n",
       "  <tbody>\n",
       "    <tr>\n",
       "      <th>0</th>\n",
       "      <td>1</td>\n",
       "      <td>-0.001882</td>\n",
       "      <td>-0.044642</td>\n",
       "      <td>-0.051474</td>\n",
       "      <td>-0.026328</td>\n",
       "      <td>-0.008449</td>\n",
       "      <td>-0.019163</td>\n",
       "      <td>0.074412</td>\n",
       "      <td>-0.039493</td>\n",
       "      <td>-0.068330</td>\n",
       "      <td>-0.092204</td>\n",
       "      <td>75.0</td>\n",
       "    </tr>\n",
       "    <tr>\n",
       "      <th>1</th>\n",
       "      <td>2</td>\n",
       "      <td>0.085299</td>\n",
       "      <td>0.050680</td>\n",
       "      <td>0.044451</td>\n",
       "      <td>-0.005671</td>\n",
       "      <td>-0.045599</td>\n",
       "      <td>-0.034194</td>\n",
       "      <td>-0.032356</td>\n",
       "      <td>-0.002592</td>\n",
       "      <td>0.002864</td>\n",
       "      <td>-0.025930</td>\n",
       "      <td>141.0</td>\n",
       "    </tr>\n",
       "    <tr>\n",
       "      <th>2</th>\n",
       "      <td>3</td>\n",
       "      <td>-0.089063</td>\n",
       "      <td>-0.044642</td>\n",
       "      <td>-0.011595</td>\n",
       "      <td>-0.036656</td>\n",
       "      <td>0.012191</td>\n",
       "      <td>0.024991</td>\n",
       "      <td>-0.036038</td>\n",
       "      <td>0.034309</td>\n",
       "      <td>0.022692</td>\n",
       "      <td>-0.009362</td>\n",
       "      <td>206.0</td>\n",
       "    </tr>\n",
       "    <tr>\n",
       "      <th>3</th>\n",
       "      <td>4</td>\n",
       "      <td>0.005383</td>\n",
       "      <td>-0.044642</td>\n",
       "      <td>-0.036385</td>\n",
       "      <td>0.021872</td>\n",
       "      <td>0.003935</td>\n",
       "      <td>0.015596</td>\n",
       "      <td>0.008142</td>\n",
       "      <td>-0.002592</td>\n",
       "      <td>-0.031991</td>\n",
       "      <td>-0.046641</td>\n",
       "      <td>135.0</td>\n",
       "    </tr>\n",
       "    <tr>\n",
       "      <th>4</th>\n",
       "      <td>10</td>\n",
       "      <td>-0.096328</td>\n",
       "      <td>-0.044642</td>\n",
       "      <td>-0.083808</td>\n",
       "      <td>0.008101</td>\n",
       "      <td>-0.103389</td>\n",
       "      <td>-0.090561</td>\n",
       "      <td>-0.013948</td>\n",
       "      <td>-0.076395</td>\n",
       "      <td>-0.062913</td>\n",
       "      <td>-0.034215</td>\n",
       "      <td>101.0</td>\n",
       "    </tr>\n",
       "  </tbody>\n",
       "</table>\n",
       "</div>"
      ],
      "text/plain": [
       "   Unnamed: 0       age       sex       bmi       map        tc       ldl  \\\n",
       "0           1 -0.001882 -0.044642 -0.051474 -0.026328 -0.008449 -0.019163   \n",
       "1           2  0.085299  0.050680  0.044451 -0.005671 -0.045599 -0.034194   \n",
       "2           3 -0.089063 -0.044642 -0.011595 -0.036656  0.012191  0.024991   \n",
       "3           4  0.005383 -0.044642 -0.036385  0.021872  0.003935  0.015596   \n",
       "4          10 -0.096328 -0.044642 -0.083808  0.008101 -0.103389 -0.090561   \n",
       "\n",
       "        hdl       tch       ltg       glu      y  \n",
       "0  0.074412 -0.039493 -0.068330 -0.092204   75.0  \n",
       "1 -0.032356 -0.002592  0.002864 -0.025930  141.0  \n",
       "2 -0.036038  0.034309  0.022692 -0.009362  206.0  \n",
       "3  0.008142 -0.002592 -0.031991 -0.046641  135.0  \n",
       "4 -0.013948 -0.076395 -0.062913 -0.034215  101.0  "
      ]
     },
     "execution_count": 30,
     "metadata": {},
     "output_type": "execute_result"
    }
   ],
   "source": [
    "training_raw = pd.read_csv('s3://helen-ml/training.csv')\n",
    "\n",
    "training_raw.head()"
   ]
  },
  {
   "cell_type": "code",
   "execution_count": 31,
   "metadata": {},
   "outputs": [
    {
     "name": "stdout",
     "output_type": "stream",
     "text": [
      "(283, 7)\n",
      "(283,)\n"
     ]
    }
   ],
   "source": [
    "# fit_transform: fits the scaler to the data set, and transforms data set\n",
    "training_scaled = scaler.fit_transform(training_raw[columns])\n",
    "\n",
    "training_features = np.array(training_scaled[:, 0:feature_count])\n",
    "training_response = np.array(training_scaled[:, feature_count])\n",
    "\n",
    "print(training_features.shape)\n",
    "print(training_response.shape)"
   ]
  },
  {
   "cell_type": "code",
   "execution_count": 32,
   "metadata": {},
   "outputs": [
    {
     "data": {
      "text/html": [
       "<div>\n",
       "<style scoped>\n",
       "    .dataframe tbody tr th:only-of-type {\n",
       "        vertical-align: middle;\n",
       "    }\n",
       "\n",
       "    .dataframe tbody tr th {\n",
       "        vertical-align: top;\n",
       "    }\n",
       "\n",
       "    .dataframe thead th {\n",
       "        text-align: right;\n",
       "    }\n",
       "</style>\n",
       "<table border=\"1\" class=\"dataframe\">\n",
       "  <thead>\n",
       "    <tr style=\"text-align: right;\">\n",
       "      <th></th>\n",
       "      <th>Unnamed: 0</th>\n",
       "      <th>age</th>\n",
       "      <th>sex</th>\n",
       "      <th>bmi</th>\n",
       "      <th>map</th>\n",
       "      <th>tc</th>\n",
       "      <th>ldl</th>\n",
       "      <th>hdl</th>\n",
       "      <th>tch</th>\n",
       "      <th>ltg</th>\n",
       "      <th>glu</th>\n",
       "      <th>y</th>\n",
       "    </tr>\n",
       "  </thead>\n",
       "  <tbody>\n",
       "    <tr>\n",
       "      <th>0</th>\n",
       "      <td>43</td>\n",
       "      <td>0.019913</td>\n",
       "      <td>-0.044642</td>\n",
       "      <td>-0.023451</td>\n",
       "      <td>-0.071085</td>\n",
       "      <td>0.020446</td>\n",
       "      <td>-0.010082</td>\n",
       "      <td>0.118591</td>\n",
       "      <td>-0.076395</td>\n",
       "      <td>-0.042572</td>\n",
       "      <td>0.073480</td>\n",
       "      <td>92.0</td>\n",
       "    </tr>\n",
       "    <tr>\n",
       "      <th>1</th>\n",
       "      <td>380</td>\n",
       "      <td>0.016281</td>\n",
       "      <td>-0.044642</td>\n",
       "      <td>0.026128</td>\n",
       "      <td>0.058596</td>\n",
       "      <td>-0.060735</td>\n",
       "      <td>-0.044215</td>\n",
       "      <td>-0.013948</td>\n",
       "      <td>-0.033958</td>\n",
       "      <td>-0.051401</td>\n",
       "      <td>-0.025930</td>\n",
       "      <td>52.0</td>\n",
       "    </tr>\n",
       "    <tr>\n",
       "      <th>2</th>\n",
       "      <td>260</td>\n",
       "      <td>0.041708</td>\n",
       "      <td>-0.044642</td>\n",
       "      <td>-0.008362</td>\n",
       "      <td>-0.057314</td>\n",
       "      <td>0.008063</td>\n",
       "      <td>-0.031376</td>\n",
       "      <td>0.151726</td>\n",
       "      <td>-0.076395</td>\n",
       "      <td>-0.080237</td>\n",
       "      <td>-0.017646</td>\n",
       "      <td>39.0</td>\n",
       "    </tr>\n",
       "    <tr>\n",
       "      <th>3</th>\n",
       "      <td>336</td>\n",
       "      <td>-0.020045</td>\n",
       "      <td>-0.044642</td>\n",
       "      <td>0.085408</td>\n",
       "      <td>-0.036656</td>\n",
       "      <td>0.091996</td>\n",
       "      <td>0.089499</td>\n",
       "      <td>-0.061809</td>\n",
       "      <td>0.145012</td>\n",
       "      <td>0.080948</td>\n",
       "      <td>0.052770</td>\n",
       "      <td>306.0</td>\n",
       "    </tr>\n",
       "    <tr>\n",
       "      <th>4</th>\n",
       "      <td>326</td>\n",
       "      <td>0.045341</td>\n",
       "      <td>0.050680</td>\n",
       "      <td>-0.008362</td>\n",
       "      <td>-0.033214</td>\n",
       "      <td>-0.007073</td>\n",
       "      <td>0.001191</td>\n",
       "      <td>-0.039719</td>\n",
       "      <td>0.034309</td>\n",
       "      <td>0.029936</td>\n",
       "      <td>0.027917</td>\n",
       "      <td>131.0</td>\n",
       "    </tr>\n",
       "  </tbody>\n",
       "</table>\n",
       "</div>"
      ],
      "text/plain": [
       "   Unnamed: 0       age       sex       bmi       map        tc       ldl  \\\n",
       "0          43  0.019913 -0.044642 -0.023451 -0.071085  0.020446 -0.010082   \n",
       "1         380  0.016281 -0.044642  0.026128  0.058596 -0.060735 -0.044215   \n",
       "2         260  0.041708 -0.044642 -0.008362 -0.057314  0.008063 -0.031376   \n",
       "3         336 -0.020045 -0.044642  0.085408 -0.036656  0.091996  0.089499   \n",
       "4         326  0.045341  0.050680 -0.008362 -0.033214 -0.007073  0.001191   \n",
       "\n",
       "        hdl       tch       ltg       glu      y  \n",
       "0  0.118591 -0.076395 -0.042572  0.073480   92.0  \n",
       "1 -0.013948 -0.033958 -0.051401 -0.025930   52.0  \n",
       "2  0.151726 -0.076395 -0.080237 -0.017646   39.0  \n",
       "3 -0.061809  0.145012  0.080948  0.052770  306.0  \n",
       "4 -0.039719  0.034309  0.029936  0.027917  131.0  "
      ]
     },
     "execution_count": 32,
     "metadata": {},
     "output_type": "execute_result"
    }
   ],
   "source": [
    "# testing data\n",
    "test_raw = pd.read_csv('s3://helen-ml/test.csv')\n",
    "\n",
    "test_raw.head()"
   ]
  },
  {
   "cell_type": "code",
   "execution_count": 33,
   "metadata": {},
   "outputs": [
    {
     "name": "stdout",
     "output_type": "stream",
     "text": [
      "(88, 7)\n",
      "(88,)\n"
     ]
    }
   ],
   "source": [
    "# transform: reuses already-fitted scaler, so that test data is scaled\n",
    "# using the same scale as the training data, for apples-to-apples comparison\n",
    "test_scaled = scaler.transform(test_raw[columns])\n",
    "test_features = test_scaled[:, 0:feature_count]\n",
    "test_response = test_scaled[:, feature_count]\n",
    "\n",
    "print(test_features.shape)\n",
    "print(test_response.shape)"
   ]
  },
  {
   "cell_type": "code",
   "execution_count": 44,
   "metadata": {},
   "outputs": [],
   "source": [
    "training_input = Variable(torch.from_numpy(training_features).float())\n",
    "test_input = Variable(torch.from_numpy(test_features).float())"
   ]
  },
  {
   "cell_type": "markdown",
   "metadata": {},
   "source": [
    "# Train and evaluate model"
   ]
  },
  {
   "cell_type": "code",
   "execution_count": 45,
   "metadata": {},
   "outputs": [
    {
     "name": "stdout",
     "output_type": "stream",
     "text": [
      "torch.Size([283, 1])\n",
      "torch.Size([88, 1])\n"
     ]
    }
   ],
   "source": [
    "# train model\n",
    "model = pytorch_lr_fit(training_features, training_response, 0.1, 1000, 0.001, 0.001)    \n",
    "\n",
    "# predictions\n",
    "predictions_training = model(training_input)\n",
    "predictions_test = model(test_input)\n",
    "\n",
    "print(predictions_training.shape)\n",
    "print(predictions_test.shape)"
   ]
  },
  {
   "cell_type": "code",
   "execution_count": 46,
   "metadata": {},
   "outputs": [
    {
     "name": "stdout",
     "output_type": "stream",
     "text": [
      "0.17547955527131026\n",
      "0.17921490816866706\n"
     ]
    }
   ],
   "source": [
    "rmse_training = math.sqrt(mean_squared_error(predictions_training.data.numpy(), training_response))\n",
    "\n",
    "print(rmse_training)\n",
    "\n",
    "rmse_test = math.sqrt(mean_squared_error(predictions_test.data.numpy(), test_response))\n",
    "\n",
    "print(rmse_test)"
   ]
  },
  {
   "cell_type": "code",
   "execution_count": 47,
   "metadata": {},
   "outputs": [],
   "source": [
    "plot_x = list(range(10, 1000, 10))\n",
    "plot_y = list()\n",
    "\n",
    "for e in plot_x:\n",
    "    m = pytorch_lr_fit(training_features, training_response, 0.1, e, 0, 0)\n",
    "    p = m(test_input)\n",
    "    r = math.sqrt(mean_squared_error(p.data.numpy(), test_response))\n",
    "    plot_y.append(r)"
   ]
  },
  {
   "cell_type": "code",
   "execution_count": 38,
   "metadata": {},
   "outputs": [
    {
     "data": {
      "image/png": "[encoded data removed]",
      "text/plain": [
       "<Figure size 432x288 with 1 Axes>"
      ]
     },
     "metadata": {},
     "output_type": "display_data"
    }
   ],
   "source": [
    "plt.plot(plot_x, plot_y)\n",
    "plt.show()"
   ]
  },
  {
   "cell_type": "code",
   "execution_count": 53,
   "metadata": {},
   "outputs": [],
   "source": [
    "plot_x = list()\n",
    "plot_y1 = list()\n",
    "plot_y2 = list()\n",
    "\n",
    "for i in list(range(0, 100, 1)):\n",
    "    l2 = i/1000 # 0 to 0.1 in steps of 0.001\n",
    "    model = pytorch_lr_fit(training_features, training_response, 0.1, 400, 0, l2)\n",
    "    pred_test = model(test_input)\n",
    "    pred_training = model(training_input)\n",
    "    rmse_test = math.sqrt(mean_squared_error(pred_test.data.numpy(), test_response))\n",
    "    rmse_training = math.sqrt(mean_squared_error(pred_training.data.numpy(), training_response))\n",
    "    plot_x.append(l2)\n",
    "    plot_y1.append(rmse_test)\n",
    "    plot_y2.append(rmse_training)"
   ]
  },
  {
   "cell_type": "code",
   "execution_count": 56,
   "metadata": {},
   "outputs": [
    {
     "data": {
      "image/png": "[encoded data removed]",
      "text/plain": [
       "<Figure size 432x288 with 1 Axes>"
      ]
     },
     "metadata": {},
     "output_type": "display_data"
    }
   ],
   "source": [
    "plt.plot(plot_x2, plot_y1, label='test')\n",
    "plt.plot(plot_x2, plot_y2, label='training')\n",
    "plt.legend()\n",
    "plt.show()"
   ]
  },
  {
   "cell_type": "code",
   "execution_count": null,
   "metadata": {},
   "outputs": [],
   "source": []
  }
 ],
 "metadata": {
  "kernelspec": {
   "display_name": "conda_pytorch_p36",
   "language": "python",
   "name": "conda_pytorch_p36"
  },
  "language_info": {
   "codemirror_mode": {
    "name": "ipython",
    "version": 3
   },
   "file_extension": ".py",
   "mimetype": "text/x-python",
   "name": "python",
   "nbconvert_exporter": "python",
   "pygments_lexer": "ipython3",
   "version": "3.6.5"
  }
 },
 "nbformat": 4,
 "nbformat_minor": 2
}
