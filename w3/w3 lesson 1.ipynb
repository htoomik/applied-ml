{
 "cells": [
  {
   "cell_type": "markdown",
   "metadata": {},
   "source": [
    "# imports"
   ]
  },
  {
   "cell_type": "code",
   "execution_count": 50,
   "metadata": {},
   "outputs": [],
   "source": [
    "import matplotlib.pyplot as plt\n",
    "import numpy as np\n",
    "import pandas as pd\n",
    "import torch\n",
    "from torch.autograd import Variable\n",
    "from sklearn.metrics import accuracy_score\n",
    "from sklearn.model_selection import train_test_split"
   ]
  },
  {
   "cell_type": "markdown",
   "metadata": {},
   "source": [
    "# Lesson 1 example 1"
   ]
  },
  {
   "cell_type": "code",
   "execution_count": 51,
   "metadata": {},
   "outputs": [],
   "source": [
    "def logistic(x):\n",
    "    return 1 / (1 + np.exp(-x))"
   ]
  },
  {
   "cell_type": "code",
   "execution_count": 52,
   "metadata": {},
   "outputs": [
    {
     "data": {
      "image/png": "[encoded data removed]",
      "text/plain": [
       "<Figure size 432x288 with 1 Axes>"
      ]
     },
     "metadata": {},
     "output_type": "display_data"
    }
   ],
   "source": [
    "x = np.arange(-6, 6, 0.001)\n",
    "y = logistic(x)\n",
    "\n",
    "plt.plot(x, y)\n",
    "plt.show()"
   ]
  },
  {
   "cell_type": "markdown",
   "metadata": {},
   "source": [
    "   # Lesson 1 example 2"
   ]
  },
  {
   "cell_type": "code",
   "execution_count": 53,
   "metadata": {},
   "outputs": [],
   "source": [
    "def train_test_split_example(df, test_fraction):\n",
    "    test_df = df.sample(frac = test_fraction)\n",
    "    train_df = df.drop(test_df.index)\n",
    "    return (train_df, test_df)"
   ]
  },
  {
   "cell_type": "code",
   "execution_count": 54,
   "metadata": {},
   "outputs": [],
   "source": [
    "def pre_process(df, threshold):\n",
    "    # Pre-process the LendingClub loan data.\n",
    "    # Args:\n",
    "    #    df - the loan data in dataframe format\n",
    "    #    threshold - interest rate threshold for classification\n",
    "    # Returns:\n",
    "    #    a pre-processed dataframe\n",
    "    \n",
    "    # classify by interest rate\n",
    "    df['class'] = df['Interest.Rate'].apply(\n",
    "        lambda x: 1.0 if float(x.replace('%', '')) <= threshold else 0.0)\n",
    "\n",
    "    # select the minimum FICO score\n",
    "    df['fico_score'] = df['FICO.Range'].apply(\n",
    "        lambda x: float(x.split('-')[0]))\n",
    "\n",
    "    # standardize the FICO score to a range of 0 to 1\n",
    "    fico_min = df['fico_score'].min()\n",
    "    fico_max = df['fico_score'].max()\n",
    "    fico_range = fico_max - fico_min\n",
    "    df['fico_score'] = df['fico_score'].apply(\n",
    "        lambda x: (x - fico_min)/fico_range)\n",
    "\n",
    "    return df[['fico_score', 'class']]"
   ]
  },
  {
   "cell_type": "code",
   "execution_count": 55,
   "metadata": {},
   "outputs": [],
   "source": [
    "class LogisticRegressionModel(torch.nn.Module):\n",
    "\n",
    "    def __init__(self, input_dim, output_dim):\n",
    "\n",
    "        # call class constructor\n",
    "        super(LogisticRegressionModel, self).__init__()\n",
    "\n",
    "        # use the nn package to create a linear layer\n",
    "        self.linear = torch.nn.Linear(input_dim, output_dim)\n",
    "\n",
    "    def forward(self, x):\n",
    "\n",
    "        # First we pass the input through the linear layer,\n",
    "        # then we pass that through sigmoid, which implements the logistic function.\n",
    "        out = torch.sigmoid(self.linear(x)) \n",
    "        return out"
   ]
  },
  {
   "cell_type": "code",
   "execution_count": 56,
   "metadata": {},
   "outputs": [],
   "source": [
    "def log_reg_fit(x, y, learning_rate, epochs):\n",
    "    # Train a logistic regresson model using SGD and pytorch. \n",
    "    # Args:\n",
    "    #    x - feature array, a numpy array\n",
    "    #    y - response array, a numpy array\n",
    "    #    learning_rate - learning rate used in SGD\n",
    "    #    epochs - number of epochs for the SGD loop\n",
    "    # Returns:\n",
    "    #    The trained model\n",
    "\n",
    "    # number of dimensions in incoming data\n",
    "    input_dimension = x.ndim\n",
    "    output_dimension = y.ndim\n",
    "\n",
    "    # if the features are a 1-d array (a list), turn into a 2d column vector\n",
    "    if input_dimension == 1:\n",
    "        x = x[:, np.newaxis]\n",
    "        input_size = 1\n",
    "    else:\n",
    "        input_size = x.shape[1]\n",
    "\n",
    "    if output_dimension == 1:\n",
    "        y = y[:, np.newaxis]\n",
    "        output_size = 1\n",
    "    else:\n",
    "        output_size = y.shape[1]\n",
    "\n",
    "    # initialize the model\n",
    "    model = LogisticRegressionModel(input_size, output_size)\n",
    "\n",
    "    # error/loss function\n",
    "    criterion = torch.nn.BCELoss()\n",
    "\n",
    "    # SGD optimizer\n",
    "    optimiser = torch.optim.SGD(model.parameters(), lr=learning_rate)\n",
    "\n",
    "    for epoch in range(epochs):\n",
    "        # feature and response variables\n",
    "        features = Variable(torch.from_numpy(x).float())\n",
    "        labels = Variable(torch.from_numpy(y).float())\n",
    "\n",
    "        # clear the gradients\n",
    "        optimiser.zero_grad()\n",
    "\n",
    "        # calculate predicted values\n",
    "        predictions = model.forward(features)\n",
    "\n",
    "        # calculate loss\n",
    "        loss = criterion(predictions, labels)\n",
    "\n",
    "        # calculate the derivative/gradient for each feature\n",
    "        loss.backward()\n",
    "        \n",
    "        # based on the gradients, take a step in the right direction\n",
    "        optimiser.step()\n",
    "\n",
    "    return model"
   ]
  },
  {
   "cell_type": "code",
   "execution_count": 62,
   "metadata": {},
   "outputs": [
    {
     "data": {
      "image/png": "[encoded data removed]",
      "text/plain": [
       "<Figure size 432x288 with 1 Axes>"
      ]
     },
     "metadata": {},
     "output_type": "display_data"
    }
   ],
   "source": [
    "# import the loan data\n",
    "raw_df = pd.read_csv('s3://helen-ml/week-3/loan_data.csv')\n",
    "\n",
    "# pre-process the loan data, with 12% as the classification threshold\n",
    "df = pre_process(raw_df, 12.0)\n",
    "\n",
    "plt.scatter(df['fico_score'], df['class'])\n",
    "plt.show()"
   ]
  },
  {
   "cell_type": "code",
   "execution_count": null,
   "metadata": {},
   "outputs": [],
   "source": [
    "\n",
    "# split data into training and test sets\n",
    "train, test = train_test_split(df, test_size=0.2)\n",
    "\n",
    "# train model\n",
    "model = log_reg_fit(train['fico_score'].values, train['class'].values, 0.1, 10000)\n",
    "\n",
    "# make predictions on test data\n",
    "raw_predictions = model(Variable(torch.from_numpy(test['fico_score'].values[:, np.newaxis]).float()))\n",
    "\n",
    "# convert probability into discrete 1/0 predictions\n",
    "predictions = []\n",
    "for prediction in raw_predictions:\n",
    "    if prediction.data.numpy()[0] > 0.50:\n",
    "        predictions.append(1.0)\n",
    "    else:\n",
    "        predictions.append(0.0)\n",
    "\n",
    "# calculate accuracy\n",
    "acc = accuracy_score(test['class'].values, predictions)\n",
    "print('Accuracy: ', acc)"
   ]
  },
  {
   "cell_type": "code",
   "execution_count": null,
   "metadata": {},
   "outputs": [],
   "source": []
  }
 ],
 "metadata": {
  "kernelspec": {
   "display_name": "conda_pytorch_p36",
   "language": "python",
   "name": "conda_pytorch_p36"
  },
  "language_info": {
   "codemirror_mode": {
    "name": "ipython",
    "version": 3
   },
   "file_extension": ".py",
   "mimetype": "text/x-python",
   "name": "python",
   "nbconvert_exporter": "python",
   "pygments_lexer": "ipython3",
   "version": "3.6.5"
  }
 },
 "nbformat": 4,
 "nbformat_minor": 2
}
